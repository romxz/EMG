{
 "cells": [
  {
   "cell_type": "code",
   "execution_count": null,
   "metadata": {
    "collapsed": true
   },
   "outputs": [],
   "source": [
    "import pandas as pd\n",
    "from bokeh.charts import output_notebook, show"
   ]
  },
  {
   "cell_type": "code",
   "execution_count": null,
   "metadata": {
    "collapsed": false
   },
   "outputs": [],
   "source": [
    "output_notebook()"
   ]
  },
  {
   "cell_type": "markdown",
   "metadata": {},
   "source": [
    "# Scatter"
   ]
  },
  {
   "cell_type": "code",
   "execution_count": null,
   "metadata": {
    "collapsed": false
   },
   "outputs": [],
   "source": [
    "from bokeh.charts import Scatter\n",
    "from bokeh.sampledata.autompg import autompg as df\n",
    "\n",
    "p = Scatter(df, x='mpg', y='hp', color='cyl', title=\"HP vs MPG (shaded by CYL)\",\n",
    "            xlabel=\"Miles Per Gallon\", ylabel=\"Horsepower\", legend='top_right')\n",
    "\n",
    "show(p)"
   ]
  },
  {
   "cell_type": "markdown",
   "metadata": {},
   "source": [
    "# Bar\n"
   ]
  },
  {
   "cell_type": "code",
   "execution_count": null,
   "metadata": {
    "collapsed": false
   },
   "outputs": [],
   "source": [
    "from bokeh.charts import Bar\n",
    "from bokeh.charts.attributes import cat, color\n",
    "from bokeh.charts.operations import blend\n",
    "from bokeh.charts.utils import df_from_json\n",
    "from bokeh.sampledata.olympics2014 import data\n",
    "\n",
    "# utilize utility to make it easy to get json/dict data converted to a dataframe\n",
    "df = df_from_json(data)\n",
    "\n",
    "# filter by countries with at least one medal and sort by total medals\n",
    "df = df[df['total'] > 0]\n",
    "df = df.sort(\"total\", ascending=False)\n",
    "\n",
    "bar = Bar(df,\n",
    "          values=blend('bronze', 'silver', 'gold', name='medals', labels_name='medal'),\n",
    "          label=cat(columns='abbr', sort=False),\n",
    "          stack=cat(columns='medal', sort=False),\n",
    "          color=color(columns='medal', palette=['SaddleBrown', 'Silver', 'Goldenrod'],\n",
    "                      sort=False),\n",
    "          legend='top_right',\n",
    "          title=\"Medals per Country, Sorted by Total Medals\",\n",
    "          tooltips=[('medal', '@medal'), ('country', '@abbr')])\n",
    "\n",
    "show(bar)"
   ]
  },
  {
   "cell_type": "markdown",
   "metadata": {},
   "source": [
    "# Histogram"
   ]
  },
  {
   "cell_type": "code",
   "execution_count": null,
   "metadata": {
    "collapsed": false
   },
   "outputs": [],
   "source": [
    "from bokeh.charts import Histogram\n",
    "from bokeh.sampledata.autompg import autompg as df\n",
    "\n",
    "df.sort('cyl', inplace=True)\n",
    "\n",
    "hist = Histogram(df, values='hp', color='cyl',\n",
    "                 title=\"HP Distribution by Cylinder Count\", legend='top_right')\n",
    "\n",
    "show(hist)"
   ]
  },
  {
   "cell_type": "markdown",
   "metadata": {},
   "source": [
    "# Boxplot"
   ]
  },
  {
   "cell_type": "code",
   "execution_count": null,
   "metadata": {
    "collapsed": false
   },
   "outputs": [],
   "source": [
    "from bokeh.charts import BoxPlot\n",
    "from bokeh.sampledata.autompg import autompg as df\n",
    "\n",
    "p = BoxPlot(df, values='mpg', label='cyl', color='cyl',\n",
    "            title=\"MPG Summary (grouped and shaded by CYL)\")\n",
    "\n",
    "show(p)"
   ]
  },
  {
   "cell_type": "markdown",
   "metadata": {},
   "source": [
    "# Heatmap"
   ]
  },
  {
   "cell_type": "code",
   "execution_count": null,
   "metadata": {
    "collapsed": false
   },
   "outputs": [],
   "source": [
    "from bokeh.charts import HeatMap, bins\n",
    "from bokeh.sampledata.autompg import autompg\n",
    "\n",
    "hm = HeatMap(autompg, x=bins('mpg'), y=bins('displ'))\n",
    "\n",
    "show(hm)"
   ]
  },
  {
   "cell_type": "markdown",
   "metadata": {},
   "source": [
    "# Step"
   ]
  },
  {
   "cell_type": "code",
   "execution_count": null,
   "metadata": {
    "collapsed": false
   },
   "outputs": [],
   "source": [
    "from bokeh.charts import Step\n",
    "\n",
    "# build a dataset where multiple columns measure the same thing\n",
    "data = dict(stamp=[\n",
    "                .33, .33, .34, .37, .37, .37, .37, .39, .41, .42,\n",
    "                .44, .44, .44, .45, .46, .49, .49],\n",
    "            postcard=[\n",
    "                .20, .20, .21, .23, .23, .23, .23, .24, .26, .27,\n",
    "                .28, .28, .29, .32, .33, .34, .35],\n",
    "            )\n",
    "\n",
    "# create a line chart where each column of measures receives a unique color and dash style\n",
    "line = Step(data, y=['stamp', 'postcard'],\n",
    "            dash=['stamp', 'postcard'],\n",
    "            color=['stamp', 'postcard'],\n",
    "            title=\"U.S. Postage Rates (1999-2015)\", ylabel='Rate per ounce', legend=True)\n",
    "\n",
    "show(line)"
   ]
  },
  {
   "cell_type": "code",
   "execution_count": null,
   "metadata": {
    "collapsed": true
   },
   "outputs": [],
   "source": []
  }
 ],
 "metadata": {
  "kernelspec": {
   "display_name": "Python 3",
   "language": "python",
   "name": "python3"
  },
  "language_info": {
   "codemirror_mode": {
    "name": "ipython",
    "version": 3
   },
   "file_extension": ".py",
   "mimetype": "text/x-python",
   "name": "python",
   "nbconvert_exporter": "python",
   "pygments_lexer": "ipython3",
   "version": "3.4.4"
  }
 },
 "nbformat": 4,
 "nbformat_minor": 0
}
